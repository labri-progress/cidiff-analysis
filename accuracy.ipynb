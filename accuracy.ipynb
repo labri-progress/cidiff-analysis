{
 "cells": [
  {
   "cell_type": "code",
   "execution_count": 1,
   "metadata": {},
   "outputs": [
    {
     "name": "stdout",
     "output_type": "stream",
     "text": [
      "Pandas: 2.2.3\n",
      "Plotnine: 0.14.5\n",
      "Pingouin: 0.5.5\n"
     ]
    }
   ],
   "source": [
    "import pandas as pd\n",
    "import plotnine as pn\n",
    "import pingouin as pg\n",
    "\n",
    "print(\"Pandas: %s\"%pd.__version__)\n",
    "print(\"Plotnine: %s\"%pn.__version__)\n",
    "print(\"Pingouin: %s\"%pg.__version__)"
   ]
  },
  {
   "cell_type": "code",
   "execution_count": 2,
   "metadata": {},
   "outputs": [
    {
     "data": {
      "text/html": [
       "<div>\n",
       "<style scoped>\n",
       "    .dataframe tbody tr th:only-of-type {\n",
       "        vertical-align: middle;\n",
       "    }\n",
       "\n",
       "    .dataframe tbody tr th {\n",
       "        vertical-align: top;\n",
       "    }\n",
       "\n",
       "    .dataframe thead th {\n",
       "        text-align: right;\n",
       "    }\n",
       "</style>\n",
       "<table border=\"1\" class=\"dataframe\">\n",
       "  <thead>\n",
       "    <tr style=\"text-align: right;\">\n",
       "      <th></th>\n",
       "      <th>path</th>\n",
       "      <th>type</th>\n",
       "      <th>line</th>\n",
       "    </tr>\n",
       "  </thead>\n",
       "  <tbody>\n",
       "    <tr>\n",
       "      <th>0</th>\n",
       "      <td>warrenbuckley/compact-log-format-viewer/run2037-0</td>\n",
       "      <td>human</td>\n",
       "      <td>553</td>\n",
       "    </tr>\n",
       "    <tr>\n",
       "      <th>1</th>\n",
       "      <td>warrenbuckley/compact-log-format-viewer/run2037-0</td>\n",
       "      <td>human</td>\n",
       "      <td>501</td>\n",
       "    </tr>\n",
       "    <tr>\n",
       "      <th>2</th>\n",
       "      <td>warrenbuckley/compact-log-format-viewer/run2037-0</td>\n",
       "      <td>human</td>\n",
       "      <td>502</td>\n",
       "    </tr>\n",
       "    <tr>\n",
       "      <th>3</th>\n",
       "      <td>warrenbuckley/compact-log-format-viewer/run2037-0</td>\n",
       "      <td>human</td>\n",
       "      <td>503</td>\n",
       "    </tr>\n",
       "    <tr>\n",
       "      <th>4</th>\n",
       "      <td>warrenbuckley/compact-log-format-viewer/run2037-0</td>\n",
       "      <td>human</td>\n",
       "      <td>504</td>\n",
       "    </tr>\n",
       "  </tbody>\n",
       "</table>\n",
       "</div>"
      ],
      "text/plain": [
       "                                                path   type  line\n",
       "0  warrenbuckley/compact-log-format-viewer/run2037-0  human   553\n",
       "1  warrenbuckley/compact-log-format-viewer/run2037-0  human   501\n",
       "2  warrenbuckley/compact-log-format-viewer/run2037-0  human   502\n",
       "3  warrenbuckley/compact-log-format-viewer/run2037-0  human   503\n",
       "4  warrenbuckley/compact-log-format-viewer/run2037-0  human   504"
      ]
     },
     "execution_count": 2,
     "metadata": {},
     "output_type": "execute_result"
    }
   ],
   "source": [
    "ref = pd.read_csv('annotations.csv')\n",
    "ref.head()"
   ]
  },
  {
   "cell_type": "code",
   "execution_count": 3,
   "metadata": {},
   "outputs": [
    {
     "data": {
      "text/html": [
       "<div>\n",
       "<style scoped>\n",
       "    .dataframe tbody tr th:only-of-type {\n",
       "        vertical-align: middle;\n",
       "    }\n",
       "\n",
       "    .dataframe tbody tr th {\n",
       "        vertical-align: top;\n",
       "    }\n",
       "\n",
       "    .dataframe thead th {\n",
       "        text-align: right;\n",
       "    }\n",
       "</style>\n",
       "<table border=\"1\" class=\"dataframe\">\n",
       "  <thead>\n",
       "    <tr style=\"text-align: right;\">\n",
       "      <th></th>\n",
       "      <th>path</th>\n",
       "      <th>type</th>\n",
       "      <th>line</th>\n",
       "    </tr>\n",
       "  </thead>\n",
       "  <tbody>\n",
       "    <tr>\n",
       "      <th>0</th>\n",
       "      <td>oramasearch/orama/run626-0</td>\n",
       "      <td>seed</td>\n",
       "      <td>483</td>\n",
       "    </tr>\n",
       "    <tr>\n",
       "      <th>1</th>\n",
       "      <td>oramasearch/orama/run626-0</td>\n",
       "      <td>seed</td>\n",
       "      <td>482</td>\n",
       "    </tr>\n",
       "    <tr>\n",
       "      <th>2</th>\n",
       "      <td>oramasearch/orama/run626-0</td>\n",
       "      <td>seed</td>\n",
       "      <td>484</td>\n",
       "    </tr>\n",
       "    <tr>\n",
       "      <th>3</th>\n",
       "      <td>oramasearch/orama/run626-0</td>\n",
       "      <td>seed</td>\n",
       "      <td>485</td>\n",
       "    </tr>\n",
       "    <tr>\n",
       "      <th>4</th>\n",
       "      <td>oramasearch/orama/run626-0</td>\n",
       "      <td>seed</td>\n",
       "      <td>486</td>\n",
       "    </tr>\n",
       "  </tbody>\n",
       "</table>\n",
       "</div>"
      ],
      "text/plain": [
       "                         path  type  line\n",
       "0  oramasearch/orama/run626-0  seed   483\n",
       "1  oramasearch/orama/run626-0  seed   482\n",
       "2  oramasearch/orama/run626-0  seed   484\n",
       "3  oramasearch/orama/run626-0  seed   485\n",
       "4  oramasearch/orama/run626-0  seed   486"
      ]
     },
     "execution_count": 3,
     "metadata": {},
     "output_type": "execute_result"
    }
   ],
   "source": [
    "res = pd.read_csv('result.csv')\n",
    "res.head()"
   ]
  },
  {
   "cell_type": "code",
   "execution_count": 4,
   "metadata": {},
   "outputs": [
    {
     "data": {
      "text/html": [
       "<div>\n",
       "<style scoped>\n",
       "    .dataframe tbody tr th:only-of-type {\n",
       "        vertical-align: middle;\n",
       "    }\n",
       "\n",
       "    .dataframe tbody tr th {\n",
       "        vertical-align: top;\n",
       "    }\n",
       "\n",
       "    .dataframe thead th {\n",
       "        text-align: right;\n",
       "    }\n",
       "</style>\n",
       "<table border=\"1\" class=\"dataframe\">\n",
       "  <thead>\n",
       "    <tr style=\"text-align: right;\">\n",
       "      <th></th>\n",
       "      <th>path</th>\n",
       "      <th>type</th>\n",
       "      <th>line</th>\n",
       "    </tr>\n",
       "  </thead>\n",
       "  <tbody>\n",
       "    <tr>\n",
       "      <th>0</th>\n",
       "      <td>oramasearch/orama/run626-0</td>\n",
       "      <td>seed</td>\n",
       "      <td>483</td>\n",
       "    </tr>\n",
       "    <tr>\n",
       "      <th>1</th>\n",
       "      <td>oramasearch/orama/run626-0</td>\n",
       "      <td>seed</td>\n",
       "      <td>482</td>\n",
       "    </tr>\n",
       "    <tr>\n",
       "      <th>2</th>\n",
       "      <td>oramasearch/orama/run626-0</td>\n",
       "      <td>seed</td>\n",
       "      <td>484</td>\n",
       "    </tr>\n",
       "    <tr>\n",
       "      <th>3</th>\n",
       "      <td>oramasearch/orama/run626-0</td>\n",
       "      <td>seed</td>\n",
       "      <td>485</td>\n",
       "    </tr>\n",
       "    <tr>\n",
       "      <th>4</th>\n",
       "      <td>oramasearch/orama/run626-0</td>\n",
       "      <td>seed</td>\n",
       "      <td>486</td>\n",
       "    </tr>\n",
       "  </tbody>\n",
       "</table>\n",
       "</div>"
      ],
      "text/plain": [
       "                         path  type  line\n",
       "0  oramasearch/orama/run626-0  seed   483\n",
       "1  oramasearch/orama/run626-0  seed   482\n",
       "2  oramasearch/orama/run626-0  seed   484\n",
       "3  oramasearch/orama/run626-0  seed   485\n",
       "4  oramasearch/orama/run626-0  seed   486"
      ]
     },
     "execution_count": 4,
     "metadata": {},
     "output_type": "execute_result"
    }
   ],
   "source": [
    "ref.groupby(\"path\")[\"line\"].apply(set)\n",
    "ref.head()\n",
    "#res.groupby([\"path\", \"type\"])[\"line\"].apply(set).unstack(fill_value=set())\n",
    "res.head()"
   ]
  },
  {
   "cell_type": "code",
   "execution_count": 21,
   "metadata": {},
   "outputs": [],
   "source": [
    "def calculate_precision_recall(human_data, algorithm_data):\n",
    "    # Group data by path for easier processing\n",
    "    human_lines = human_data.groupby(\"path\")[\"line\"].apply(set)\n",
    "    algorithm_lines = algorithm_data.groupby([\"path\", \"type\"])[\"line\"].apply(set).unstack(fill_value=set())\n",
    "    \n",
    "    # Initialize dictionaries to hold precision and recall values\n",
    "    precision_scores = []\n",
    "    recall_scores = []\n",
    "    \n",
    "    # Loop through each path in the human data\n",
    "    for path, human_lines_set in human_lines.items():\n",
    "        for algorithm_type in algorithm_lines.columns:\n",
    "            # Get the lines identified by the current algorithm for the current path\n",
    "            algorithm_lines_set = algorithm_lines.loc[path, algorithm_type] if path in algorithm_lines.index else set()\n",
    "            \n",
    "            # Calculate true positives, precision, and recall\n",
    "            true_positives = human_lines_set & algorithm_lines_set\n",
    "            precision = len(true_positives) / len(algorithm_lines_set) if len(algorithm_lines_set) > 0 else 0\n",
    "            recall = len(true_positives) / len(human_lines_set) if len(human_lines_set) > 0 else 0\n",
    "            \n",
    "            # Store results\n",
    "            precision_scores.append([path, algorithm_type, precision])\n",
    "            recall_scores.append([path, algorithm_type, recall])\n",
    "    \n",
    "    return precision_scores, recall_scores"
   ]
  },
  {
   "cell_type": "code",
   "execution_count": 32,
   "metadata": {},
   "outputs": [
    {
     "data": {
      "text/html": [
       "<div>\n",
       "<style scoped>\n",
       "    .dataframe tbody tr th:only-of-type {\n",
       "        vertical-align: middle;\n",
       "    }\n",
       "\n",
       "    .dataframe tbody tr th {\n",
       "        vertical-align: top;\n",
       "    }\n",
       "\n",
       "    .dataframe thead th {\n",
       "        text-align: right;\n",
       "    }\n",
       "</style>\n",
       "<table border=\"1\" class=\"dataframe\">\n",
       "  <thead>\n",
       "    <tr style=\"text-align: right;\">\n",
       "      <th></th>\n",
       "      <th>path</th>\n",
       "      <th>algorithm</th>\n",
       "      <th>precision</th>\n",
       "    </tr>\n",
       "  </thead>\n",
       "  <tbody>\n",
       "    <tr>\n",
       "      <th>0</th>\n",
       "      <td>MilanCommunity/Milan/run23-0</td>\n",
       "      <td>lcs</td>\n",
       "      <td>0.007874</td>\n",
       "    </tr>\n",
       "    <tr>\n",
       "      <th>1</th>\n",
       "      <td>MilanCommunity/Milan/run23-0</td>\n",
       "      <td>seed</td>\n",
       "      <td>0.009747</td>\n",
       "    </tr>\n",
       "    <tr>\n",
       "      <th>2</th>\n",
       "      <td>aiogram/aiogram/run886-0</td>\n",
       "      <td>lcs</td>\n",
       "      <td>0.126761</td>\n",
       "    </tr>\n",
       "    <tr>\n",
       "      <th>3</th>\n",
       "      <td>aiogram/aiogram/run886-0</td>\n",
       "      <td>seed</td>\n",
       "      <td>0.321429</td>\n",
       "    </tr>\n",
       "    <tr>\n",
       "      <th>4</th>\n",
       "      <td>aiven/pghoard/run840-0</td>\n",
       "      <td>lcs</td>\n",
       "      <td>0.024648</td>\n",
       "    </tr>\n",
       "  </tbody>\n",
       "</table>\n",
       "</div>"
      ],
      "text/plain": [
       "                           path algorithm  precision\n",
       "0  MilanCommunity/Milan/run23-0       lcs   0.007874\n",
       "1  MilanCommunity/Milan/run23-0      seed   0.009747\n",
       "2      aiogram/aiogram/run886-0       lcs   0.126761\n",
       "3      aiogram/aiogram/run886-0      seed   0.321429\n",
       "4        aiven/pghoard/run840-0       lcs   0.024648"
      ]
     },
     "metadata": {},
     "output_type": "display_data"
    },
    {
     "data": {
      "text/html": [
       "<div>\n",
       "<style scoped>\n",
       "    .dataframe tbody tr th:only-of-type {\n",
       "        vertical-align: middle;\n",
       "    }\n",
       "\n",
       "    .dataframe tbody tr th {\n",
       "        vertical-align: top;\n",
       "    }\n",
       "\n",
       "    .dataframe thead th {\n",
       "        text-align: right;\n",
       "    }\n",
       "</style>\n",
       "<table border=\"1\" class=\"dataframe\">\n",
       "  <thead>\n",
       "    <tr style=\"text-align: right;\">\n",
       "      <th></th>\n",
       "      <th>path</th>\n",
       "      <th>algorithm</th>\n",
       "      <th>recall</th>\n",
       "    </tr>\n",
       "  </thead>\n",
       "  <tbody>\n",
       "    <tr>\n",
       "      <th>0</th>\n",
       "      <td>MilanCommunity/Milan/run23-0</td>\n",
       "      <td>lcs</td>\n",
       "      <td>1.000000</td>\n",
       "    </tr>\n",
       "    <tr>\n",
       "      <th>1</th>\n",
       "      <td>MilanCommunity/Milan/run23-0</td>\n",
       "      <td>seed</td>\n",
       "      <td>1.000000</td>\n",
       "    </tr>\n",
       "    <tr>\n",
       "      <th>2</th>\n",
       "      <td>aiogram/aiogram/run886-0</td>\n",
       "      <td>lcs</td>\n",
       "      <td>0.818182</td>\n",
       "    </tr>\n",
       "    <tr>\n",
       "      <th>3</th>\n",
       "      <td>aiogram/aiogram/run886-0</td>\n",
       "      <td>seed</td>\n",
       "      <td>0.818182</td>\n",
       "    </tr>\n",
       "    <tr>\n",
       "      <th>4</th>\n",
       "      <td>aiven/pghoard/run840-0</td>\n",
       "      <td>lcs</td>\n",
       "      <td>1.000000</td>\n",
       "    </tr>\n",
       "  </tbody>\n",
       "</table>\n",
       "</div>"
      ],
      "text/plain": [
       "                           path algorithm    recall\n",
       "0  MilanCommunity/Milan/run23-0       lcs  1.000000\n",
       "1  MilanCommunity/Milan/run23-0      seed  1.000000\n",
       "2      aiogram/aiogram/run886-0       lcs  0.818182\n",
       "3      aiogram/aiogram/run886-0      seed  0.818182\n",
       "4        aiven/pghoard/run840-0       lcs  1.000000"
      ]
     },
     "metadata": {},
     "output_type": "display_data"
    }
   ],
   "source": [
    "(precs, recs) = calculate_precision_recall(ref, res)\n",
    "precs_df = pd.DataFrame(precs, columns=[\"path\", \"algorithm\", \"precision\"])\n",
    "display(precs_df.head())\n",
    "recs_df = pd.DataFrame(recs, columns=[\"path\", \"algorithm\", \"recall\"])\n",
    "display(recs_df.head())"
   ]
  },
  {
   "cell_type": "code",
   "execution_count": 46,
   "metadata": {},
   "outputs": [
    {
     "data": {
      "text/html": [
       "<div>\n",
       "<style scoped>\n",
       "    .dataframe tbody tr th:only-of-type {\n",
       "        vertical-align: middle;\n",
       "    }\n",
       "\n",
       "    .dataframe tbody tr th {\n",
       "        vertical-align: top;\n",
       "    }\n",
       "\n",
       "    .dataframe thead th {\n",
       "        text-align: right;\n",
       "    }\n",
       "</style>\n",
       "<table border=\"1\" class=\"dataframe\">\n",
       "  <thead>\n",
       "    <tr style=\"text-align: right;\">\n",
       "      <th></th>\n",
       "      <th>path</th>\n",
       "      <th>algorithm</th>\n",
       "      <th>recall</th>\n",
       "    </tr>\n",
       "  </thead>\n",
       "  <tbody>\n",
       "    <tr>\n",
       "      <th>108</th>\n",
       "      <td>memfault/interrupt/run6-0</td>\n",
       "      <td>lcs</td>\n",
       "      <td>0.0</td>\n",
       "    </tr>\n",
       "    <tr>\n",
       "      <th>109</th>\n",
       "      <td>memfault/interrupt/run6-0</td>\n",
       "      <td>seed</td>\n",
       "      <td>0.0</td>\n",
       "    </tr>\n",
       "  </tbody>\n",
       "</table>\n",
       "</div>"
      ],
      "text/plain": [
       "                          path algorithm  recall\n",
       "108  memfault/interrupt/run6-0       lcs     0.0\n",
       "109  memfault/interrupt/run6-0      seed     0.0"
      ]
     },
     "execution_count": 46,
     "metadata": {},
     "output_type": "execute_result"
    }
   ],
   "source": [
    "recs_df[recs_df[\"recall\"] == 0]"
   ]
  },
  {
   "cell_type": "code",
   "execution_count": 42,
   "metadata": {},
   "outputs": [
    {
     "data": {
      "image/png": "[encoded data removed]"
     },
     "metadata": {
      "image/png": {
       "height": 400,
       "width": 300
      }
     },
     "output_type": "display_data"
    }
   ],
   "source": [
    "pn.ggplot(precs_df, pn.aes(x=\"algorithm\", y=\"precision\")) + pn.geom_jitter() + pn.theme(axis_text_x=pn.element_text(rotation=90, hjust=1)) + pn.theme_minimal() + pn.theme(figure_size=(3, 4))"
   ]
  },
  {
   "cell_type": "code",
   "execution_count": 45,
   "metadata": {},
   "outputs": [
    {
     "data": {
      "image/png": "[encoded data removed]"
     },
     "metadata": {
      "image/png": {
       "height": 400,
       "width": 300
      }
     },
     "output_type": "display_data"
    }
   ],
   "source": [
    "pn.ggplot(recs_df, pn.aes(x=\"algorithm\", y=\"recall\")) + pn.geom_boxplot() + pn.theme(axis_text_x=pn.element_text(rotation=90, hjust=1)) + pn.theme_minimal() + pn.theme(figure_size=(3, 4))"
   ]
  }
 ],
 "metadata": {
  "kernelspec": {
   "display_name": ".venv",
   "language": "python",
   "name": "python3"
  },
  "language_info": {
   "codemirror_mode": {
    "name": "ipython",
    "version": 3
   },
   "file_extension": ".py",
   "mimetype": "text/x-python",
   "name": "python",
   "nbconvert_exporter": "python",
   "pygments_lexer": "ipython3",
   "version": "3.13.1"
  }
 },
 "nbformat": 4,
 "nbformat_minor": 2
}
